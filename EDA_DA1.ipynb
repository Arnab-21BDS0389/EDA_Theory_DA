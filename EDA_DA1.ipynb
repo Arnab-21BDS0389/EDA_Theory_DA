{
  "nbformat": 4,
  "nbformat_minor": 0,
  "metadata": {
    "colab": {
      "provenance": [],
      "authorship_tag": "ABX9TyOlIDL0UtOMfwRP45GCJj5I",
      "include_colab_link": true
    },
    "kernelspec": {
      "name": "ir",
      "display_name": "R"
    },
    "language_info": {
      "name": "R"
    }
  },
  "cells": [
    {
      "cell_type": "markdown",
      "metadata": {
        "id": "view-in-github",
        "colab_type": "text"
      },
      "source": [
        "<a href=\"https://colab.research.google.com/github/Arnab-21BDS0389/EDA_Theory_DA/blob/main/EDA_DA1.ipynb\" target=\"_parent\"><img src=\"https://colab.research.google.com/assets/colab-badge.svg\" alt=\"Open In Colab\"/></a>"
      ]
    },
    {
      "cell_type": "code",
      "execution_count": 1,
      "metadata": {
        "colab": {
          "base_uri": "https://localhost:8080/"
        },
        "id": "RPDHQrRxJKXN",
        "outputId": "657dedc8-119a-4a0c-d255-ebf0fb22b744"
      },
      "outputs": [
        {
          "output_type": "stream",
          "name": "stderr",
          "text": [
            "Installing package into ‘/usr/local/lib/R/site-library’\n",
            "(as ‘lib’ is unspecified)\n",
            "\n",
            "\u001b[1m\u001b[22mIs it OK to cache OAuth access credentials in the folder \u001b[34m~/.cache/gargle\u001b[39m\n",
            "between R sessions?\n",
            "\u001b[1m1\u001b[22m: Yes\n",
            "\u001b[1m2\u001b[22m: No\n"
          ]
        },
        {
          "name": "stdout",
          "output_type": "stream",
          "text": [
            "Selection: 1\n"
          ]
        },
        {
          "output_type": "stream",
          "name": "stderr",
          "text": [
            "Please point your browser to the following url: \n",
            "\n",
            "https://accounts.google.com/o/oauth2/v2/auth?client_id=603366585132-frjlouoa3s2ono25d2l9ukvhlsrlnr7k.apps.googleusercontent.com&scope=https%3A%2F%2Fwww.googleapis.com%2Fauth%2Fdrive%20https%3A%2F%2Fwww.googleapis.com%2Fauth%2Fuserinfo.email&redirect_uri=https%3A%2F%2Fwww.tidyverse.org%2Fgoogle-callback%2F&response_type=code&state=3d549e3742ac9fa970dbf443f31d816b&access_type=offline&prompt=consent\n",
            "\n"
          ]
        },
        {
          "name": "stdout",
          "output_type": "stream",
          "text": [
            "Enter authorization code: eyJjb2RlIjoiNC8wQVFsRWQ4d1llVVpraGUteE5KeG9jMGk2d0NmYXFVSWlBZHlvXzB2TDNCRnZjNS1fLUFETWlMNGpqSXhRRzZyeHZwVjB3dyIsInN0YXRlIjoiM2Q1NDllMzc0MmFjOWZhOTcwZGJmNDQzZjMxZDgxNmIifQ==\n"
          ]
        }
      ],
      "source": [
        "# Install necessary package\n",
        "install.packages(\"googledrive\")\n",
        "library(googledrive)\n",
        "\n",
        "drive_auth()"
      ]
    },
    {
      "cell_type": "code",
      "source": [
        "# Download the file from Google Drive\n",
        "drive_download(\"HepatitisCdata.csv\", path = \"HepatitisCdata.csv\")\n",
        "\n",
        "# Read the CSV file\n",
        "data <- read.csv(\"HepatitisCdata.csv\")\n",
        "head(data)"
      ],
      "metadata": {
        "colab": {
          "base_uri": "https://localhost:8080/",
          "height": 425
        },
        "id": "JrMPi6vxJ7ED",
        "outputId": "3d0292f4-8f09-4f79-a471-2d34175d6705"
      },
      "execution_count": 2,
      "outputs": [
        {
          "output_type": "stream",
          "name": "stderr",
          "text": [
            "File downloaded:\n",
            "\n",
            "• \u001b[36mHepatitisCdata.csv\u001b[39m \u001b[90m<id: 155-8yGoyp2fdKAredYPk5lJLMx6YJAM5>\u001b[39m\n",
            "\n",
            "Saved locally as:\n",
            "\n",
            "• \u001b[34mHepatitisCdata.csv\u001b[39m\n",
            "\n"
          ]
        },
        {
          "output_type": "display_data",
          "data": {
            "text/html": [
              "<table class=\"dataframe\">\n",
              "<caption>A data.frame: 6 × 14</caption>\n",
              "<thead>\n",
              "\t<tr><th></th><th scope=col>X</th><th scope=col>Category</th><th scope=col>Age</th><th scope=col>Sex</th><th scope=col>ALB</th><th scope=col>ALP</th><th scope=col>ALT</th><th scope=col>AST</th><th scope=col>BIL</th><th scope=col>CHE</th><th scope=col>CHOL</th><th scope=col>CREA</th><th scope=col>GGT</th><th scope=col>PROT</th></tr>\n",
              "\t<tr><th></th><th scope=col>&lt;int&gt;</th><th scope=col>&lt;chr&gt;</th><th scope=col>&lt;int&gt;</th><th scope=col>&lt;chr&gt;</th><th scope=col>&lt;dbl&gt;</th><th scope=col>&lt;dbl&gt;</th><th scope=col>&lt;dbl&gt;</th><th scope=col>&lt;dbl&gt;</th><th scope=col>&lt;dbl&gt;</th><th scope=col>&lt;dbl&gt;</th><th scope=col>&lt;dbl&gt;</th><th scope=col>&lt;dbl&gt;</th><th scope=col>&lt;dbl&gt;</th><th scope=col>&lt;dbl&gt;</th></tr>\n",
              "</thead>\n",
              "<tbody>\n",
              "\t<tr><th scope=row>1</th><td>1</td><td>0=Blood Donor</td><td>32</td><td>m</td><td>38.5</td><td>52.5</td><td> 7.7</td><td>22.1</td><td> 7.5</td><td> 6.93</td><td>3.23</td><td>106</td><td>12.1</td><td>69.0</td></tr>\n",
              "\t<tr><th scope=row>2</th><td>2</td><td>0=Blood Donor</td><td>32</td><td>m</td><td>38.5</td><td>70.3</td><td>18.0</td><td>24.7</td><td> 3.9</td><td>11.17</td><td>4.80</td><td> 74</td><td>15.6</td><td>76.5</td></tr>\n",
              "\t<tr><th scope=row>3</th><td>3</td><td>0=Blood Donor</td><td>32</td><td>m</td><td>46.9</td><td>74.7</td><td>36.2</td><td>52.6</td><td> 6.1</td><td> 8.84</td><td>5.20</td><td> 86</td><td>33.2</td><td>79.3</td></tr>\n",
              "\t<tr><th scope=row>4</th><td>4</td><td>0=Blood Donor</td><td>32</td><td>m</td><td>43.2</td><td>52.0</td><td>30.6</td><td>22.6</td><td>18.9</td><td> 7.33</td><td>4.74</td><td> 80</td><td>33.8</td><td>75.7</td></tr>\n",
              "\t<tr><th scope=row>5</th><td>5</td><td>0=Blood Donor</td><td>32</td><td>m</td><td>39.2</td><td>74.1</td><td>32.6</td><td>24.8</td><td> 9.6</td><td> 9.15</td><td>4.32</td><td> 76</td><td>29.9</td><td>68.7</td></tr>\n",
              "\t<tr><th scope=row>6</th><td>6</td><td>0=Blood Donor</td><td>32</td><td>m</td><td>41.6</td><td>43.3</td><td>18.5</td><td>19.7</td><td>12.3</td><td> 9.92</td><td>6.05</td><td>111</td><td>91.0</td><td>74.0</td></tr>\n",
              "</tbody>\n",
              "</table>\n"
            ],
            "text/markdown": "\nA data.frame: 6 × 14\n\n| <!--/--> | X &lt;int&gt; | Category &lt;chr&gt; | Age &lt;int&gt; | Sex &lt;chr&gt; | ALB &lt;dbl&gt; | ALP &lt;dbl&gt; | ALT &lt;dbl&gt; | AST &lt;dbl&gt; | BIL &lt;dbl&gt; | CHE &lt;dbl&gt; | CHOL &lt;dbl&gt; | CREA &lt;dbl&gt; | GGT &lt;dbl&gt; | PROT &lt;dbl&gt; |\n|---|---|---|---|---|---|---|---|---|---|---|---|---|---|---|\n| 1 | 1 | 0=Blood Donor | 32 | m | 38.5 | 52.5 |  7.7 | 22.1 |  7.5 |  6.93 | 3.23 | 106 | 12.1 | 69.0 |\n| 2 | 2 | 0=Blood Donor | 32 | m | 38.5 | 70.3 | 18.0 | 24.7 |  3.9 | 11.17 | 4.80 |  74 | 15.6 | 76.5 |\n| 3 | 3 | 0=Blood Donor | 32 | m | 46.9 | 74.7 | 36.2 | 52.6 |  6.1 |  8.84 | 5.20 |  86 | 33.2 | 79.3 |\n| 4 | 4 | 0=Blood Donor | 32 | m | 43.2 | 52.0 | 30.6 | 22.6 | 18.9 |  7.33 | 4.74 |  80 | 33.8 | 75.7 |\n| 5 | 5 | 0=Blood Donor | 32 | m | 39.2 | 74.1 | 32.6 | 24.8 |  9.6 |  9.15 | 4.32 |  76 | 29.9 | 68.7 |\n| 6 | 6 | 0=Blood Donor | 32 | m | 41.6 | 43.3 | 18.5 | 19.7 | 12.3 |  9.92 | 6.05 | 111 | 91.0 | 74.0 |\n\n",
            "text/latex": "A data.frame: 6 × 14\n\\begin{tabular}{r|llllllllllllll}\n  & X & Category & Age & Sex & ALB & ALP & ALT & AST & BIL & CHE & CHOL & CREA & GGT & PROT\\\\\n  & <int> & <chr> & <int> & <chr> & <dbl> & <dbl> & <dbl> & <dbl> & <dbl> & <dbl> & <dbl> & <dbl> & <dbl> & <dbl>\\\\\n\\hline\n\t1 & 1 & 0=Blood Donor & 32 & m & 38.5 & 52.5 &  7.7 & 22.1 &  7.5 &  6.93 & 3.23 & 106 & 12.1 & 69.0\\\\\n\t2 & 2 & 0=Blood Donor & 32 & m & 38.5 & 70.3 & 18.0 & 24.7 &  3.9 & 11.17 & 4.80 &  74 & 15.6 & 76.5\\\\\n\t3 & 3 & 0=Blood Donor & 32 & m & 46.9 & 74.7 & 36.2 & 52.6 &  6.1 &  8.84 & 5.20 &  86 & 33.2 & 79.3\\\\\n\t4 & 4 & 0=Blood Donor & 32 & m & 43.2 & 52.0 & 30.6 & 22.6 & 18.9 &  7.33 & 4.74 &  80 & 33.8 & 75.7\\\\\n\t5 & 5 & 0=Blood Donor & 32 & m & 39.2 & 74.1 & 32.6 & 24.8 &  9.6 &  9.15 & 4.32 &  76 & 29.9 & 68.7\\\\\n\t6 & 6 & 0=Blood Donor & 32 & m & 41.6 & 43.3 & 18.5 & 19.7 & 12.3 &  9.92 & 6.05 & 111 & 91.0 & 74.0\\\\\n\\end{tabular}\n",
            "text/plain": [
              "  X Category      Age Sex ALB  ALP  ALT  AST  BIL  CHE   CHOL CREA GGT  PROT\n",
              "1 1 0=Blood Donor 32  m   38.5 52.5  7.7 22.1  7.5  6.93 3.23 106  12.1 69.0\n",
              "2 2 0=Blood Donor 32  m   38.5 70.3 18.0 24.7  3.9 11.17 4.80  74  15.6 76.5\n",
              "3 3 0=Blood Donor 32  m   46.9 74.7 36.2 52.6  6.1  8.84 5.20  86  33.2 79.3\n",
              "4 4 0=Blood Donor 32  m   43.2 52.0 30.6 22.6 18.9  7.33 4.74  80  33.8 75.7\n",
              "5 5 0=Blood Donor 32  m   39.2 74.1 32.6 24.8  9.6  9.15 4.32  76  29.9 68.7\n",
              "6 6 0=Blood Donor 32  m   41.6 43.3 18.5 19.7 12.3  9.92 6.05 111  91.0 74.0"
            ]
          },
          "metadata": {}
        }
      ]
    }
  ]
}